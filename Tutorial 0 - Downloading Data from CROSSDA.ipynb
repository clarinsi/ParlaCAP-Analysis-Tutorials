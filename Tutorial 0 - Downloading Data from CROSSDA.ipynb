{
 "cells": [
  {
   "cell_type": "markdown",
   "id": "33e2a7f4",
   "metadata": {},
   "source": [
    "# Tutorial 0 - Downloading Data from CROSSDA\n",
    "\n",
    "To download data from CROSSDA, the Croatian Social Science Data Archive, follow these steps:\n",
    "1. Navigate to [the CROSSDA repository entry for ParlaCAP](https://doi.org/10.23669/1ZTELP)\n",
    "2. Search the repo for `*speeches_no_text`\n",
    "3. Be sure to select all the files...\n",
    "4. ... even those not shown on the first page.\n",
    "5. Click the \"Download\" button\n",
    "   \n",
    "   \n",
    "   <img src=\"fig/2.png\" alt=\"drawing\" width=\"1200\"/>\n",
    "6. Accept the terms and conditions\n",
    "7. Save the resulting zip in this directory. You should see a new file named `dataverse_files.zip`.\n",
    "\n",
    "The remainder of the processing can be automated with the cells below: for UNIX based systems, run:"
   ]
  },
  {
   "cell_type": "code",
   "execution_count": 1,
   "id": "2c20ae32",
   "metadata": {},
   "outputs": [
    {
     "name": "stdout",
     "output_type": "stream",
     "text": [
      "Archive:  dataverse_files.zip\n",
      "   creating: speeches_no_text/\n",
      "  inflating: speeches_no_text/cda1055_dat_ParlaCAP-DK_speeches_no_text.tsv.zip  \n",
      "  inflating: speeches_no_text/cda1055_dat_ParlaCAP-GB_speeches_no_text.tsv.zip  \n",
      "  inflating: speeches_no_text/cda1055_dat_ParlaCAP-SE_speeches_no_text.tsv.zip  \n",
      "  inflating: speeches_no_text/cda1055_dat_ParlaCAP-HU_speeches_no_text.tsv.zip  \n",
      "  inflating: speeches_no_text/cda1055_dat_ParlaCAP-NL_speeches_no_text.tsv.zip  \n",
      "  inflating: speeches_no_text/cda1055_dat_ParlaCAP-CZ_speeches_no_text.tsv.zip  \n",
      "  inflating: speeches_no_text/cda1055_dat_ParlaCAP-EE_speeches_no_text.tsv.zip  \n",
      "  inflating: speeches_no_text/cda1055_dat_ParlaCAP-BG_speeches_no_text.tsv.zip  \n",
      "  inflating: speeches_no_text/cda1055_dat_ParlaCAP-GR_speeches_no_text.tsv.zip  \n",
      "  inflating: speeches_no_text/cda1055_dat_ParlaCAP-ES-CT_speeches_no_text.tsv.zip  \n",
      "  inflating: speeches_no_text/cda1055_dat_ParlaCAP-ES-PV_speeches_no_text.tsv.zip  \n",
      "  inflating: speeches_no_text/cda1055_dat_ParlaCAP-AT_speeches_no_text.tsv.zip  \n",
      "  inflating: speeches_no_text/cda1055_dat_ParlaCAP-IT_speeches_no_text.tsv.zip  \n",
      "  inflating: speeches_no_text/cda1055_dat_ParlaCAP-BE_speeches_no_text.tsv.zip  \n",
      "  inflating: speeches_no_text/cda1055_dat_ParlaCAP-TR_speeches_no_text.tsv.zip  \n",
      "  inflating: speeches_no_text/cda1055_dat_ParlaCAP-IS_speeches_no_text.tsv.zip  \n",
      "  inflating: speeches_no_text/cda1055_dat_ParlaCAP-ES_speeches_no_text.tsv.zip  \n",
      "  inflating: speeches_no_text/cda1055_dat_ParlaCAP-BA_speeches_no_text.tsv.zip  \n",
      "  inflating: speeches_no_text/cda1055_dat_ParlaCAP-UA_speeches_no_text.tsv.zip  \n",
      "  inflating: speeches_no_text/cda1055_dat_ParlaCAP-LV_speeches_no_text.tsv.zip  \n",
      "  inflating: speeches_no_text/cda1055_dat_ParlaCAP-SI_speeches_no_text.tsv.zip  \n",
      "  inflating: speeches_no_text/cda1055_dat_ParlaCAP-ES-GA_speeches_no_text.tsv.zip  \n",
      "  inflating: speeches_no_text/cda1055_dat_ParlaCAP-PT_speeches_no_text.tsv.zip  \n",
      "  inflating: speeches_no_text/cda1055_dat_ParlaCAP-NO_speeches_no_text.tsv.zip  \n",
      "  inflating: speeches_no_text/cda1055_dat_ParlaCAP-RS_speeches_no_text.tsv.zip  \n",
      "  inflating: speeches_no_text/cda1055_dat_ParlaCAP-HR_speeches_no_text.tsv.zip  \n",
      "  inflating: speeches_no_text/cda1055_dat_ParlaCAP-PL_speeches_no_text.tsv.zip  \n",
      "  inflating: speeches_no_text/cda1055_dat_ParlaCAP-FR_speeches_no_text.tsv.zip  \n",
      "  inflating: MANIFEST.TXT            \n"
     ]
    }
   ],
   "source": [
    "! unzip dataverse_files.zip && rm dataverse_files.zip"
   ]
  },
  {
   "cell_type": "markdown",
   "id": "1fa94761",
   "metadata": {},
   "source": [
    "While for Windows based systems, use:"
   ]
  },
  {
   "cell_type": "code",
   "execution_count": null,
   "id": "188efff7",
   "metadata": {},
   "outputs": [],
   "source": [
    "! tar -xf dataverse_files.zip && del dataverse_files.zip"
   ]
  },
  {
   "cell_type": "markdown",
   "id": "ffbe340f",
   "metadata": {},
   "source": [
    "If you notice a new directory called `speeches_no_text`, your work is done."
   ]
  }
 ],
 "metadata": {
  "kernelspec": {
   "display_name": "base",
   "language": "python",
   "name": "python3"
  },
  "language_info": {
   "codemirror_mode": {
    "name": "ipython",
    "version": 3
   },
   "file_extension": ".py",
   "mimetype": "text/x-python",
   "name": "python",
   "nbconvert_exporter": "python",
   "pygments_lexer": "ipython3",
   "version": "3.10.15"
  }
 },
 "nbformat": 4,
 "nbformat_minor": 5
}
